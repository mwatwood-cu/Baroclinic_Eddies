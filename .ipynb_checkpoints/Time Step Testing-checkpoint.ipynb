{
 "cells": [
  {
   "cell_type": "markdown",
   "metadata": {},
   "source": [
    "# Time Stepping Verification"
   ]
  },
  {
   "cell_type": "code",
   "execution_count": 2,
   "metadata": {},
   "outputs": [
    {
     "data": {
      "text/plain": [
       "get_rk_constants (generic function with 1 method)"
      ]
     },
     "execution_count": 2,
     "metadata": {},
     "output_type": "execute_result"
    }
   ],
   "source": [
    "include(\"RK_Functions.jl\")"
   ]
  },
  {
   "cell_type": "code",
   "execution_count": 3,
   "metadata": {},
   "outputs": [
    {
     "data": {
      "text/plain": [
       "linear (generic function with 1 method)"
      ]
     },
     "execution_count": 3,
     "metadata": {},
     "output_type": "execute_result"
    }
   ],
   "source": [
    "function linear(x)\n",
    "    return -x\n",
    "end"
   ]
  },
  {
   "cell_type": "code",
   "execution_count": 11,
   "metadata": {},
   "outputs": [
    {
     "ename": "ErrorException",
     "evalue": "cannot assign a value to variable Base.error from module Main",
     "output_type": "error",
     "traceback": [
      "cannot assign a value to variable Base.error from module Main",
      "",
      "Stacktrace:",
      " [1] top-level scope at In[11]:2"
     ]
    }
   ],
   "source": [
    "u = zeros(2,1);\n",
    "e_test = zeros(2,4)\n",
    "u[1,1] = 1.0;"
   ]
  },
  {
   "cell_type": "code",
   "execution_count": 10,
   "metadata": {},
   "outputs": [
    {
     "ename": "MethodError",
     "evalue": "MethodError: no method matching setindex!(::typeof(error), ::Float64, ::Int64, ::Int64)",
     "output_type": "error",
     "traceback": [
      "MethodError: no method matching setindex!(::typeof(error), ::Float64, ::Int64, ::Int64)",
      "",
      "Stacktrace:",
      " [1] top-level scope at In[10]:5"
     ]
    }
   ],
   "source": [
    "u_next = u;\n",
    "for i in 1:10\n",
    "    u_next = take_timestep_array(linear, 0, u_next, .1)\n",
    "end\n",
    "e_test[1,1] = 0.1;\n",
    "e_test[2,1] = abs(exp(-1)-u_next[1])"
   ]
  },
  {
   "cell_type": "code",
   "execution_count": 9,
   "metadata": {},
   "outputs": [
    {
     "ename": "MethodError",
     "evalue": "MethodError: no method matching setindex!(::typeof(error), ::Float64, ::Int64, ::Int64)",
     "output_type": "error",
     "traceback": [
      "MethodError: no method matching setindex!(::typeof(error), ::Float64, ::Int64, ::Int64)",
      "",
      "Stacktrace:",
      " [1] top-level scope at In[9]:5"
     ]
    }
   ],
   "source": [
    "u_next = u;\n",
    "for i in 1:100\n",
    "    u_next = take_timestep_array(linear, 0, u_next, .01)\n",
    "end\n",
    "e_test[1,2] = 0.01;\n",
    "e_test[2,2] = abs(exp(-1)-u_next[1])"
   ]
  },
  {
   "cell_type": "code",
   "execution_count": null,
   "metadata": {},
   "outputs": [],
   "source": []
  }
 ],
 "metadata": {
  "kernelspec": {
   "display_name": "Julia 1.2.0",
   "language": "julia",
   "name": "julia-1.2"
  },
  "language_info": {
   "file_extension": ".jl",
   "mimetype": "application/julia",
   "name": "julia",
   "version": "1.2.0"
  }
 },
 "nbformat": 4,
 "nbformat_minor": 2
}
