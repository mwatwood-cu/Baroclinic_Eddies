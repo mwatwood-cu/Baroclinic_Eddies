{
 "cells": [
  {
   "cell_type": "markdown",
   "metadata": {},
   "source": [
    "# Baroclinic Eddy Energy Transfer\n",
    "## Matt Watwood and Ian Grooms"
   ]
  },
  {
   "cell_type": "code",
   "execution_count": null,
   "metadata": {},
   "outputs": [],
   "source": [
    "#using Pkg\n",
    "#Pkg.add(\"FFTW\")\n",
    "#Pkg.add(\"Parameters\")\n",
    "using FFTW"
   ]
  },
  {
   "cell_type": "code",
   "execution_count": 21,
   "metadata": {},
   "outputs": [
    {
     "name": "stderr",
     "output_type": "stream",
     "text": [
      "WARNING: replacing module Init.\n"
     ]
    },
    {
     "data": {
      "text/plain": [
       "QG_RHS (generic function with 1 method)"
      ]
     },
     "execution_count": 21,
     "metadata": {},
     "output_type": "execute_result"
    }
   ],
   "source": [
    "include(\"RK_Functions.jl\")\n",
    "include(\"Initialize.jl\")\n",
    "include(\"Psi.jl\");\n",
    "include(\"Explicit_RHS.jl\")"
   ]
  },
  {
   "cell_type": "code",
   "execution_count": 22,
   "metadata": {},
   "outputs": [
    {
     "data": {
      "text/plain": [
       "384×384 Array{Complex{Float64},2}:\n",
       "  0.0+0.0im    0.0+0.0im    0.0+0.0im   …   0.0+0.0im    0.0+0.0im \n",
       "  0.0+1.0im    0.0+1.0im    0.0+1.0im       0.0+1.0im    0.0+1.0im \n",
       "  0.0+2.0im    0.0+2.0im    0.0+2.0im       0.0+2.0im    0.0+2.0im \n",
       "  0.0+3.0im    0.0+3.0im    0.0+3.0im       0.0+3.0im    0.0+3.0im \n",
       "  0.0+4.0im    0.0+4.0im    0.0+4.0im       0.0+4.0im    0.0+4.0im \n",
       "  0.0+5.0im    0.0+5.0im    0.0+5.0im   …   0.0+5.0im    0.0+5.0im \n",
       "  0.0+6.0im    0.0+6.0im    0.0+6.0im       0.0+6.0im    0.0+6.0im \n",
       "  0.0+7.0im    0.0+7.0im    0.0+7.0im       0.0+7.0im    0.0+7.0im \n",
       "  0.0+8.0im    0.0+8.0im    0.0+8.0im       0.0+8.0im    0.0+8.0im \n",
       "  0.0+9.0im    0.0+9.0im    0.0+9.0im       0.0+9.0im    0.0+9.0im \n",
       "  0.0+10.0im   0.0+10.0im   0.0+10.0im  …   0.0+10.0im   0.0+10.0im\n",
       "  0.0+11.0im   0.0+11.0im   0.0+11.0im      0.0+11.0im   0.0+11.0im\n",
       "  0.0+12.0im   0.0+12.0im   0.0+12.0im      0.0+12.0im   0.0+12.0im\n",
       "     ⋮                                  ⋱                          \n",
       " -0.0-12.0im  -0.0-12.0im  -0.0-12.0im     -0.0-12.0im  -0.0-12.0im\n",
       " -0.0-11.0im  -0.0-11.0im  -0.0-11.0im     -0.0-11.0im  -0.0-11.0im\n",
       " -0.0-10.0im  -0.0-10.0im  -0.0-10.0im     -0.0-10.0im  -0.0-10.0im\n",
       " -0.0-9.0im   -0.0-9.0im   -0.0-9.0im   …  -0.0-9.0im   -0.0-9.0im \n",
       " -0.0-8.0im   -0.0-8.0im   -0.0-8.0im      -0.0-8.0im   -0.0-8.0im \n",
       " -0.0-7.0im   -0.0-7.0im   -0.0-7.0im      -0.0-7.0im   -0.0-7.0im \n",
       " -0.0-6.0im   -0.0-6.0im   -0.0-6.0im      -0.0-6.0im   -0.0-6.0im \n",
       " -0.0-5.0im   -0.0-5.0im   -0.0-5.0im      -0.0-5.0im   -0.0-5.0im \n",
       " -0.0-4.0im   -0.0-4.0im   -0.0-4.0im   …  -0.0-4.0im   -0.0-4.0im \n",
       " -0.0-3.0im   -0.0-3.0im   -0.0-3.0im      -0.0-3.0im   -0.0-3.0im \n",
       " -0.0-2.0im   -0.0-2.0im   -0.0-2.0im      -0.0-2.0im   -0.0-2.0im \n",
       " -0.0-1.0im   -0.0-1.0im   -0.0-1.0im      -0.0-1.0im   -0.0-1.0im "
      ]
     },
     "execution_count": 22,
     "metadata": {},
     "output_type": "execute_result"
    }
   ],
   "source": [
    "Setup_Psi()\n",
    "setup_QG_RHS()"
   ]
  },
  {
   "cell_type": "code",
   "execution_count": null,
   "metadata": {},
   "outputs": [],
   "source": [
    "Init."
   ]
  },
  {
   "cell_type": "code",
   "execution_count": null,
   "metadata": {},
   "outputs": [],
   "source": []
  },
  {
   "cell_type": "code",
   "execution_count": null,
   "metadata": {},
   "outputs": [],
   "source": []
  },
  {
   "cell_type": "code",
   "execution_count": null,
   "metadata": {},
   "outputs": [],
   "source": []
  },
  {
   "cell_type": "code",
   "execution_count": null,
   "metadata": {},
   "outputs": [],
   "source": []
  },
  {
   "cell_type": "code",
   "execution_count": null,
   "metadata": {},
   "outputs": [],
   "source": [
    "\n"
   ]
  },
  {
   "cell_type": "code",
   "execution_count": null,
   "metadata": {},
   "outputs": [],
   "source": [
    "1 / (1*tanh(1.0))"
   ]
  },
  {
   "cell_type": "code",
   "execution_count": null,
   "metadata": {},
   "outputs": [],
   "source": []
  }
 ],
 "metadata": {
  "kernelspec": {
   "display_name": "Julia 1.2.0",
   "language": "julia",
   "name": "julia-1.2"
  },
  "language_info": {
   "file_extension": ".jl",
   "mimetype": "application/julia",
   "name": "julia",
   "version": "1.2.0"
  }
 },
 "nbformat": 4,
 "nbformat_minor": 2
}
