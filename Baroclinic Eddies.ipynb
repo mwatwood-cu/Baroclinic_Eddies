{
 "cells": [
  {
   "cell_type": "markdown",
   "metadata": {},
   "source": [
    "# Baroclinic Eddy Energy Transfer\n",
    "## Matt Watwood and Ian Grooms"
   ]
  },
  {
   "cell_type": "code",
   "execution_count": 1,
   "metadata": {},
   "outputs": [
    {
     "name": "stderr",
     "output_type": "stream",
     "text": [
      "┌ Info: Recompiling stale cache file C:\\Users\\mwatwood\\.julia\\compiled\\v1.2\\PyPlot\\oatAj.ji for PyPlot [d330b81b-6aea-500a-939a-2ce795aea3ee]\n",
      "└ @ Base loading.jl:1240\n"
     ]
    }
   ],
   "source": [
    "using Pkg\n",
    "#Pkg.add(\"FFTW\")\n",
    "#Pkg.add(\"PyPlot\")\n",
    "#Pkg.add(\"FileIO\")\n",
    "#Pkg.add(\"Distributions\")\n",
    "#Pkg.add(\"Random\")\n",
    "using FFTW, PyPlot, FileIO\n",
    "using Random, Distributions"
   ]
  },
  {
   "cell_type": "code",
   "execution_count": 63,
   "metadata": {},
   "outputs": [
    {
     "name": "stderr",
     "output_type": "stream",
     "text": [
      "WARNING: replacing module Init.\n"
     ]
    },
    {
     "data": {
      "text/plain": [
       "spatial_localize (generic function with 1 method)"
      ]
     },
     "execution_count": 63,
     "metadata": {},
     "output_type": "execute_result"
    }
   ],
   "source": [
    "include(\"RK_Functions.jl\")\n",
    "include(\"Initialize.jl\")\n",
    "include(\"Psi.jl\");\n",
    "include(\"Explicit_RHS.jl\")\n",
    "include(\"Stocastic.jl\")"
   ]
  },
  {
   "cell_type": "code",
   "execution_count": 64,
   "metadata": {},
   "outputs": [
    {
     "name": "stdout",
     "output_type": "stream",
     "text": [
      "(65, 128)\n"
     ]
    },
    {
     "data": {
      "text/plain": [
       "65×128 Array{Complex{Float64},2}:\n",
       "          0.0+0.0im         …  -2.45629e-8-8.12268e-7im\n",
       "   1.43612e-6+1.70728e-7im      1.66852e-6+8.81373e-7im\n",
       "   2.18239e-6-3.89284e-7im      4.84558e-6+5.45191e-7im\n",
       "   6.42903e-6-3.62774e-7im     -6.52314e-6-6.41731e-6im\n",
       "    -9.686e-6-9.56224e-6im     -2.20632e-5+5.68604e-6im\n",
       "  -4.19692e-6+7.93486e-7im  …   -1.7675e-5-7.41158e-6im\n",
       "   2.51815e-5-1.5882e-5im       1.86241e-5-4.33828e-6im\n",
       "  -1.15646e-5+1.14318e-5im      1.75924e-5-1.31351e-7im\n",
       "  -8.54401e-6+2.70443e-5im     -1.57041e-5+8.56337e-6im\n",
       "  -1.50539e-5-1.77495e-5im     -1.64041e-5+1.05194e-5im\n",
       "  -2.67995e-5+4.96343e-5im  …   9.90513e-6-4.31543e-5im\n",
       "  -5.33374e-5-1.069e-5im        6.88961e-5+7.22564e-5im\n",
       "  -4.48777e-5-5.53541e-5im     -0.00019888+1.93186e-5im\n",
       "             ⋮              ⋱                          \n",
       "  -0.00203606-0.00790867im      0.00934006-0.0236137im \n",
       "   0.00234429+0.0100025im       -0.0256201-0.0216107im \n",
       "   0.00433639-0.00484757im  …    0.0299101+0.0152667im \n",
       " -0.000227677+0.00369353im      -0.0129265-0.0382638im \n",
       "   -0.0516273+0.0128446im       -0.0362414+0.0357698im \n",
       "   -0.0170989+0.137968im         0.0674975+0.0629933im \n",
       "     0.343841-0.00537163im       0.0498341+0.136956im  \n",
       "     -7.14501-10.0112im     …     -5.97993-4.57515im   \n",
       "      10.2048-18.6862im           -25.4474+1.90254im   \n",
       "     -8.25393+3.85215im           -4.39658-4.86749im   \n",
       "      7.93296+13.6236im            12.2556-4.65444im   \n",
       "     -32.8054-0.0im                12.0305-1.96786im   "
      ]
     },
     "execution_count": 64,
     "metadata": {},
     "output_type": "execute_result"
    }
   ],
   "source": [
    "Setup_Psi()\n",
    "setup_QG_RHS();\n",
    "Create_Stoch_Pert(Int(Init.parameters.N_points/2+1), Init.parameters.N_points)"
   ]
  },
  {
   "cell_type": "code",
   "execution_count": null,
   "metadata": {},
   "outputs": [],
   "source": [
    "take_timestep(_array(QG_RHS, Init.L, Init.q, 0.01);"
   ]
  },
  {
   "cell_type": "code",
   "execution_count": null,
   "metadata": {},
   "outputs": [],
   "source": [
    "u_next = Init.q\n",
    "dt_next = 0.01\n",
    "println(Init.qp[1,1,1])\n",
    "println(Init.qp[5,5,1])\n",
    "for i in 1:500\n",
    "    u_next, dt_next = take_timestep_array(QG_RHS, Init.L, u_next, dt_next)\n",
    "    if(i%10 ==0)\n",
    "        println(\"Stepping with size \", dt_next)\n",
    "    end\n",
    "end\n",
    "qp = FFTW.irfft(u_next, Init.parameters.N_points)\n",
    "println(qp[1,1,1])\n",
    "println(qp[5,5,1])"
   ]
  },
  {
   "cell_type": "code",
   "execution_count": null,
   "metadata": {},
   "outputs": [],
   "source": [
    "imshow(Init.qp[:,:,1])"
   ]
  },
  {
   "cell_type": "code",
   "execution_count": null,
   "metadata": {},
   "outputs": [],
   "source": [
    "imshow(qp[:,:,1])"
   ]
  },
  {
   "cell_type": "code",
   "execution_count": null,
   "metadata": {},
   "outputs": [],
   "source": []
  },
  {
   "cell_type": "code",
   "execution_count": null,
   "metadata": {},
   "outputs": [],
   "source": [
    "\n"
   ]
  },
  {
   "cell_type": "code",
   "execution_count": null,
   "metadata": {},
   "outputs": [],
   "source": []
  },
  {
   "cell_type": "code",
   "execution_count": null,
   "metadata": {},
   "outputs": [],
   "source": []
  }
 ],
 "metadata": {
  "kernelspec": {
   "display_name": "Julia 1.2.0",
   "language": "julia",
   "name": "julia-1.2"
  },
  "language_info": {
   "file_extension": ".jl",
   "mimetype": "application/julia",
   "name": "julia",
   "version": "1.2.0"
  }
 },
 "nbformat": 4,
 "nbformat_minor": 2
}
