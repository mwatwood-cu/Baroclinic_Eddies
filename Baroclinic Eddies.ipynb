{
 "cells": [
  {
   "cell_type": "markdown",
   "metadata": {},
   "source": [
    "# Baroclinic Eddy Energy Transfer\n",
    "## Matt Watwood and Ian Grooms"
   ]
  },
  {
   "cell_type": "code",
   "execution_count": 36,
   "metadata": {},
   "outputs": [],
   "source": [
    "#using Pkg\n",
    "#Pkg.add(\"FFTW\")\n",
    "#Pkg.add(\"Parameters\")\n",
    "using FFTW"
   ]
  },
  {
   "cell_type": "code",
   "execution_count": 137,
   "metadata": {},
   "outputs": [
    {
     "name": "stderr",
     "output_type": "stream",
     "text": [
      "WARNING: replacing module Init.\n"
     ]
    },
    {
     "data": {
      "text/plain": [
       "QG_RHS (generic function with 2 methods)"
      ]
     },
     "execution_count": 137,
     "metadata": {},
     "output_type": "execute_result"
    }
   ],
   "source": [
    "include(\"RK_Functions.jl\")\n",
    "include(\"Initialize.jl\")\n",
    "include(\"Psi.jl\");\n",
    "include(\"Explicit_RHS.jl\")"
   ]
  },
  {
   "cell_type": "code",
   "execution_count": 143,
   "metadata": {},
   "outputs": [
    {
     "data": {
      "text/plain": [
       "9×16×2 Array{Complex{Float64},3}:\n",
       "[:, :, 1] =\n",
       " 3.45403e-16+0.0im      -0.178478+0.0664929im  …  -0.178478-0.0664929im\n",
       "     46.3834-18.0341im    31.9011-18.1942im          33.391+20.8009im  \n",
       "     -2.1373-7.08025im   -4.74241+0.770467im       -58.0113-15.526im   \n",
       "    -24.4508-7.02943im  -0.278941+90.864im         -21.8718+0.887888im \n",
       "     4.95684-35.6934im     15.816+48.5291im         56.3607-49.185im   \n",
       "     11.3691-17.3319im    41.0242-64.7751im    …   -29.5285+46.6784im  \n",
       "     85.1186-164.678im   -62.9343-70.5648im        -36.9851-135.673im  \n",
       "      98.851-81.5844im   -23.4349-85.7399im        -165.789-43.1924im  \n",
       "     9.17763+1.86679im   -8.13415-3.38874im       -0.548563-3.58003im  \n",
       "\n",
       "[:, :, 2] =\n",
       " 1.23358e-15+0.0im      0.442649-1.23079im   …  0.442649+1.23079im \n",
       "     16.0999-5.05681im   5.42988+0.934124im      11.7305-3.69969im \n",
       "     11.3658-19.1204im  0.673255+13.357im       -16.6665-6.99351im \n",
       "    -20.5752+18.6138im   26.8988+34.6211im      -14.7958-0.774434im\n",
       "    -1.36077+71.0195im  -36.0159+37.6261im       38.6136+35.6582im \n",
       "     8.86282+12.8454im  -15.5451-14.6398im   …   39.4525+17.1007im \n",
       "    -49.8429-96.3031im   51.8646-101.376im       67.7413-35.3013im \n",
       "     84.0841-85.4708im  -53.9077+137.712im       48.8978+77.8513im \n",
       "   -0.419078+1.60069im   6.59005-7.8648im       -3.20765+7.25367im "
      ]
     },
     "execution_count": 143,
     "metadata": {},
     "output_type": "execute_result"
    }
   ],
   "source": [
    "Setup_Psi()\n",
    "setup_QG_RHS()\n",
    "QG_RHS(Init.q)"
   ]
  },
  {
   "cell_type": "code",
   "execution_count": 144,
   "metadata": {},
   "outputs": [
    {
     "data": {
      "text/plain": [
       "9×16×2 Array{Complex{Float64},3}:\n",
       "[:, :, 1] =\n",
       "  8.30938+0.0im       -5.64709-4.07279im   …   -5.64709+4.07279im \n",
       "  13.5507+14.1421im    13.1657+16.1im          -5.85656+19.8958im \n",
       "  2.61303-1.25003im   -1.27035-0.851038im     -0.259446-22.7136im \n",
       " -1.04265-7.11679im   -22.9457+10.2671im       -2.14712-6.08515im \n",
       "  8.74426-3.07939im     -7.478+7.1329im         14.9751+6.66567im \n",
       "  3.89081+1.41548im    12.9918+0.430669im  …    -9.1291-0.750161im\n",
       "  28.6601-4.17742im    1.49433-14.9685im        13.6819-17.3508im \n",
       "  18.5666+2.56971im    7.29854-9.70907im        -9.9492-20.7631im \n",
       "  11.6203+0.117554im  -16.9717+17.742im        -16.1245-18.5351im \n",
       "\n",
       "[:, :, 2] =\n",
       " -15.0004+0.0im        -0.0755602+5.17301im  …  -0.0755602-5.17301im \n",
       "  -8.7442+9.40103im      -1.58108-10.0737im        -15.606+0.214881im\n",
       " -17.1225-3.76582im       8.15676-2.82038im       -3.01578+10.4374im \n",
       "  7.58206+6.15167im       14.7054-9.33986im       -0.89125+4.56195im \n",
       "  17.7301+3.58937im       7.54189+12.164im          10.354-7.52216im \n",
       "  1.90868+0.0414441im    -2.25479+1.5121im   …      7.1312-6.06622im \n",
       " -18.5733-0.125827im     -11.3599-14.9527im       0.404603-12.8708im \n",
       " -3.47439-15.8577im       11.7685+17.0696im        12.2581+0.679189im\n",
       "  3.56026+0.341127im     -6.34776+12.635im         -7.2739-12.9754im "
      ]
     },
     "execution_count": 144,
     "metadata": {},
     "output_type": "execute_result"
    }
   ],
   "source": [
    "take_timestep_array(QG_RHS, Init.L, Init.q, 0.1)"
   ]
  },
  {
   "cell_type": "code",
   "execution_count": 150,
   "metadata": {},
   "outputs": [
    {
     "name": "stdout",
     "output_type": "stream",
     "text": [
      "1.0021790429187245\n",
      "-1.4927766742480912\n",
      "0.23336107807011083\n",
      "-0.4442373202557086\n"
     ]
    }
   ],
   "source": [
    "u_next = Init.q\n",
    "println(Init.qp[1,1,1])\n",
    "println(Init.qp[5,5,1])\n",
    "for i in 1:1000\n",
    "    u_next = take_timestep_array(QG_RHS, Init.L, u_next, .1)\n",
    "end\n",
    "qp = FFTW.irfft(u_next, Init.parameters.N_points)\n",
    "println(qp[1,1,1])\n",
    "println(qp[5,5,1])"
   ]
  },
  {
   "cell_type": "code",
   "execution_count": null,
   "metadata": {},
   "outputs": [],
   "source": []
  },
  {
   "cell_type": "code",
   "execution_count": null,
   "metadata": {},
   "outputs": [],
   "source": []
  },
  {
   "cell_type": "code",
   "execution_count": null,
   "metadata": {},
   "outputs": [],
   "source": []
  },
  {
   "cell_type": "code",
   "execution_count": null,
   "metadata": {},
   "outputs": [],
   "source": [
    "\n"
   ]
  },
  {
   "cell_type": "code",
   "execution_count": null,
   "metadata": {},
   "outputs": [],
   "source": []
  },
  {
   "cell_type": "code",
   "execution_count": null,
   "metadata": {},
   "outputs": [],
   "source": []
  }
 ],
 "metadata": {
  "kernelspec": {
   "display_name": "Julia 1.2.0",
   "language": "julia",
   "name": "julia-1.2"
  },
  "language_info": {
   "file_extension": ".jl",
   "mimetype": "application/julia",
   "name": "julia",
   "version": "1.2.0"
  }
 },
 "nbformat": 4,
 "nbformat_minor": 2
}
